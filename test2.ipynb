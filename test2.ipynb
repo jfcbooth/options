{
 "cells": [
  {
   "cell_type": "code",
   "execution_count": 65,
   "metadata": {},
   "outputs": [
    {
     "name": "stdout",
     "output_type": "stream",
     "text": [
      "<class 'numpy.ndarray'>\n"
     ]
    },
    {
     "data": {
      "text/html": [
       "<div>\n",
       "<style scoped>\n",
       "    .dataframe tbody tr th:only-of-type {\n",
       "        vertical-align: middle;\n",
       "    }\n",
       "\n",
       "    .dataframe tbody tr th {\n",
       "        vertical-align: top;\n",
       "    }\n",
       "\n",
       "    .dataframe thead th {\n",
       "        text-align: right;\n",
       "    }\n",
       "</style>\n",
       "<table border=\"1\" class=\"dataframe\">\n",
       "  <thead>\n",
       "    <tr style=\"text-align: right;\">\n",
       "      <th></th>\n",
       "      <th>Contract Name</th>\n",
       "      <th>Last Trade Date</th>\n",
       "      <th>Strike</th>\n",
       "      <th>Last Price</th>\n",
       "      <th>Bid</th>\n",
       "      <th>Ask</th>\n",
       "      <th>Change</th>\n",
       "      <th>% Change</th>\n",
       "      <th>Volume</th>\n",
       "      <th>Open Interest</th>\n",
       "      <th>Implied Volatility</th>\n",
       "    </tr>\n",
       "  </thead>\n",
       "  <tbody>\n",
       "    <tr>\n",
       "      <th>0</th>\n",
       "      <td>GME230106P00005000</td>\n",
       "      <td>2022-12-28 9:59AM EST</td>\n",
       "      <td>5.0</td>\n",
       "      <td>0.01</td>\n",
       "      <td>0.0</td>\n",
       "      <td>0.01</td>\n",
       "      <td>0.00</td>\n",
       "      <td>-</td>\n",
       "      <td>1</td>\n",
       "      <td>37</td>\n",
       "      <td>350.00%</td>\n",
       "    </tr>\n",
       "    <tr>\n",
       "      <th>1</th>\n",
       "      <td>GME230106P00010000</td>\n",
       "      <td>2022-12-29 9:51AM EST</td>\n",
       "      <td>10.0</td>\n",
       "      <td>0.02</td>\n",
       "      <td>0.0</td>\n",
       "      <td>0.02</td>\n",
       "      <td>0.00</td>\n",
       "      <td>-</td>\n",
       "      <td>1</td>\n",
       "      <td>201</td>\n",
       "      <td>187.50%</td>\n",
       "    </tr>\n",
       "    <tr>\n",
       "      <th>2</th>\n",
       "      <td>GME230106P00011000</td>\n",
       "      <td>2022-12-30 9:52AM EST</td>\n",
       "      <td>11.0</td>\n",
       "      <td>0.03</td>\n",
       "      <td>0.0</td>\n",
       "      <td>0.03</td>\n",
       "      <td>-0.01</td>\n",
       "      <td>-25.00%</td>\n",
       "      <td>2</td>\n",
       "      <td>163</td>\n",
       "      <td>168.75%</td>\n",
       "    </tr>\n",
       "  </tbody>\n",
       "</table>\n",
       "</div>"
      ],
      "text/plain": [
       "        Contract Name        Last Trade Date  Strike  Last Price  Bid   Ask  \\\n",
       "0  GME230106P00005000  2022-12-28 9:59AM EST     5.0        0.01  0.0  0.01   \n",
       "1  GME230106P00010000  2022-12-29 9:51AM EST    10.0        0.02  0.0  0.02   \n",
       "2  GME230106P00011000  2022-12-30 9:52AM EST    11.0        0.03  0.0  0.03   \n",
       "\n",
       "   Change % Change Volume  Open Interest Implied Volatility  \n",
       "0    0.00        -      1             37            350.00%  \n",
       "1    0.00        -      1            201            187.50%  \n",
       "2   -0.01  -25.00%      2            163            168.75%  "
      ]
     },
     "execution_count": 65,
     "metadata": {},
     "output_type": "execute_result"
    }
   ],
   "source": [
    "from yahoo_fin import options\n",
    "from yahoo_fin import stock_info as si\n",
    "import pandas as pd\n",
    "import numpy as np\n",
    "\n",
    "ticker = \"gme\"\n",
    "# get live price\n",
    "price = si.get_live_price(ticker)\n",
    "expo_dates = options.get_expiration_dates(ticker)\n",
    "chain = options.get_options_chain(ticker)\n",
    "\n",
    "#options.get_options_chain(ticker, expo_dates[0])\n",
    "\n",
    "# current options prices (first 4 of them)\n",
    "puts = options.get_puts(ticker, expo_dates[0]).to_numpy()\n",
    "options.get_puts(ticker, expo_dates[0])[:3]"
   ]
  },
  {
   "cell_type": "markdown",
   "metadata": {},
   "source": [
    "The goal is to find if a stock would be profitable if we bought it ITM then immediately sold it, collecting the premium. First, only search options that are ITM."
   ]
  },
  {
   "cell_type": "code",
   "execution_count": 55,
   "metadata": {},
   "outputs": [
    {
     "name": "stdout",
     "output_type": "stream",
     "text": [
      "['GME230106P00018500' '2022-12-30 3:53PM EST' 18.5 0.79 0.75 0.81 -0.21\n",
      " '-21.00%' '114' 293 '74.41%']\n"
     ]
    }
   ],
   "source": [
    "# remove options that are not currently ITM\n",
    "itm_puts = [put for put in puts if put[2] > price]\n",
    "print(itm_puts[0])\n"
   ]
  },
  {
   "cell_type": "markdown",
   "metadata": {},
   "source": [
    "cash_out = strike_price\n",
    "cash_in = premium + price_at_sale\n",
    "\n",
    "Cost = Strike_price\n",
    "\n",
    "Gain = Premium + Price at expiration\n",
    "\n",
    "Profit = premium + price at expiration - strike price\n",
    "\n",
    "The tricky part is calculating the premium, since it is based on a bid/ask system. I can start with only viewing bid values, as that would guarantee the contract executes, but would cut into profits. If this is successful or no profit is found, I will transition to a mid-point between last price and bid values."
   ]
  },
  {
   "cell_type": "code",
   "execution_count": 1,
   "metadata": {},
   "outputs": [
    {
     "ename": "NameError",
     "evalue": "name 'itm_puts' is not defined",
     "output_type": "error",
     "traceback": [
      "\u001b[1;31m---------------------------------------------------------------------------\u001b[0m",
      "\u001b[1;31mNameError\u001b[0m                                 Traceback (most recent call last)",
      "Cell \u001b[1;32mIn[1], line 2\u001b[0m\n\u001b[0;32m      1\u001b[0m profits \u001b[39m=\u001b[39m []\n\u001b[1;32m----> 2\u001b[0m \u001b[39mfor\u001b[39;00m put \u001b[39min\u001b[39;00m itm_puts:\n\u001b[0;32m      3\u001b[0m     \u001b[39m# cost of buying stock\u001b[39;00m\n\u001b[0;32m      4\u001b[0m     cost \u001b[39m=\u001b[39m put[\u001b[39m2\u001b[39m] \u001b[39m-\u001b[39m put[\u001b[39m4\u001b[39m] \u001b[39m# strike - premium\u001b[39;00m\n\u001b[0;32m      5\u001b[0m     \u001b[39m# gain of selling stock\u001b[39;00m\n",
      "\u001b[1;31mNameError\u001b[0m: name 'itm_puts' is not defined"
     ]
    }
   ],
   "source": [
    "\n",
    "profits = []\n",
    "for put in itm_puts:\n",
    "    # cost of buying stock\n",
    "    cost = put[2] - put[4] # strike - premium\n",
    "    # gain of selling stock\n",
    "    gain = price # 3 = last, 4 = bid, 5 = ask\n",
    "    profits.append((gain - cost)*100)\n",
    "print(profits)\n",
    "break_even_price = put[2] - put[4]\n",
    "print(break_even_price)\n",
    "print(price)"
   ]
  },
  {
   "cell_type": "code",
   "execution_count": null,
   "metadata": {},
   "outputs": [],
   "source": []
  },
  {
   "cell_type": "markdown",
   "metadata": {},
   "source": [
    "Zip the current ITM put options with the profits so we can relate them to each other"
   ]
  },
  {
   "cell_type": "code",
   "execution_count": 64,
   "metadata": {},
   "outputs": [
    {
     "ename": "TypeError",
     "evalue": "'numpy.float64' object is not iterable",
     "output_type": "error",
     "traceback": [
      "\u001b[1;31m---------------------------------------------------------------------------\u001b[0m",
      "\u001b[1;31mTypeError\u001b[0m                                 Traceback (most recent call last)",
      "Cell \u001b[1;32mIn[64], line 2\u001b[0m\n\u001b[0;32m      1\u001b[0m \u001b[39mimport\u001b[39;00m \u001b[39mitertools\u001b[39;00m\n\u001b[1;32m----> 2\u001b[0m res \u001b[39m=\u001b[39m [\u001b[39mlist\u001b[39m(itertools\u001b[39m.\u001b[39mchain(\u001b[39m*\u001b[39mi))\n\u001b[0;32m      3\u001b[0m     \u001b[39mfor\u001b[39;00m i \u001b[39min\u001b[39;00m \u001b[39mzip\u001b[39m(itm_puts, profits)]\n\u001b[0;32m      4\u001b[0m \u001b[39m#test = [j for i in zip(itm_puts, profits) for j in i]\u001b[39;00m\n\u001b[0;32m      5\u001b[0m \u001b[39m#test = np.dstack((itm_puts, profits))\u001b[39;00m\n\u001b[0;32m      6\u001b[0m \u001b[39mprint\u001b[39m(res)\n",
      "Cell \u001b[1;32mIn[64], line 2\u001b[0m, in \u001b[0;36m<listcomp>\u001b[1;34m(.0)\u001b[0m\n\u001b[0;32m      1\u001b[0m \u001b[39mimport\u001b[39;00m \u001b[39mitertools\u001b[39;00m\n\u001b[1;32m----> 2\u001b[0m res \u001b[39m=\u001b[39m [\u001b[39mlist\u001b[39;49m(itertools\u001b[39m.\u001b[39;49mchain(\u001b[39m*\u001b[39;49mi))\n\u001b[0;32m      3\u001b[0m     \u001b[39mfor\u001b[39;00m i \u001b[39min\u001b[39;00m \u001b[39mzip\u001b[39m(itm_puts, profits)]\n\u001b[0;32m      4\u001b[0m \u001b[39m#test = [j for i in zip(itm_puts, profits) for j in i]\u001b[39;00m\n\u001b[0;32m      5\u001b[0m \u001b[39m#test = np.dstack((itm_puts, profits))\u001b[39;00m\n\u001b[0;32m      6\u001b[0m \u001b[39mprint\u001b[39m(res)\n",
      "\u001b[1;31mTypeError\u001b[0m: 'numpy.float64' object is not iterable"
     ]
    }
   ],
   "source": [
    "import itertools\n",
    "res = [list(itertools.chain(*i))\n",
    "    for i in zip(itm_puts, profits)]\n",
    "#test = [j for i in zip(itm_puts, profits) for j in i]\n",
    "#test = np.dstack((itm_puts, profits))\n",
    "print(res)"
   ]
  },
  {
   "cell_type": "code",
   "execution_count": null,
   "metadata": {},
   "outputs": [],
   "source": []
  }
 ],
 "metadata": {
  "kernelspec": {
   "display_name": "Python 3.9.5 ('base')",
   "language": "python",
   "name": "python3"
  },
  "language_info": {
   "codemirror_mode": {
    "name": "ipython",
    "version": 3
   },
   "file_extension": ".py",
   "mimetype": "text/x-python",
   "name": "python",
   "nbconvert_exporter": "python",
   "pygments_lexer": "ipython3",
   "version": "3.9.5"
  },
  "orig_nbformat": 4,
  "vscode": {
   "interpreter": {
    "hash": "631926b96873d2007fbe5ba14401cac9ce99e5e76ded0bffc18be58f3fefa61b"
   }
  }
 },
 "nbformat": 4,
 "nbformat_minor": 2
}
