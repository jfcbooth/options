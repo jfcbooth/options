{
 "cells": [
  {
   "cell_type": "code",
   "execution_count": null,
   "metadata": {},
   "outputs": [
    {
     "name": "stderr",
     "output_type": "stream",
     "text": [
      "[*********************100%***********************]  1 of 1 completed\n",
      "C:\\Users\\C70636\\AppData\\Local\\Temp\\ipykernel_1388\\2499197885.py:34: FutureWarning: Calling float on a single element Series is deprecated and will raise a TypeError in the future. Use float(ser.iloc[0]) instead\n",
      "  latest_price = float(stock_data['Close'].iloc[-1])\n"
     ]
    },
    {
     "name": "stdout",
     "output_type": "stream",
     "text": [
      "122.83999633789062\n",
      "Selected Option: AMD250214C00065000, Strike: 65.0, Premium: 49.05\n",
      "Buying 244.0 shares of AMD at $122.83999633789062 each, total cost: $29972.959106445312\n",
      "Selling 2.0 covered calls at strike 65.0, premium $49.05 each.\n"
     ]
    }
   ],
   "source": [
    "import yfinance as yf\n",
    "import pandas as pd\n",
    "import numpy as np\n",
    "from datetime import datetime, timedelta\n",
    "import matplotlib.pyplot as plt\n",
    "\n",
    "# Import trading libraries for live/paper trading (Alpaca, IB, etc.)\n",
    "from alpaca_trade_api import REST\n",
    "\n",
    "# Set up Alpaca (replace with your credentials)\n",
    "API_KEY = 'PKUYV5B3MGE6RAYVN71B'\n",
    "API_SECRET = 'PKUYV5B3MGE6RAYVN71B'\n",
    "BASE_URL = 'https://paper-api.alpaca.markets/v2'\n",
    "alpaca = REST(API_KEY, API_SECRET, BASE_URL, api_version='v2')\n",
    "\n",
    "\n",
    "# Function to fetch AMD stock data\n",
    "def fetch_stock_data(ticker, start_date, end_date):\n",
    "    stock = yf.download(ticker, start=start_date, end=end_date)\n",
    "    return stock\n",
    "\n",
    "\n",
    "# Function to fetch AMD options data\n",
    "def fetch_options_data(ticker, expiration_date):\n",
    "    stock = yf.Ticker(ticker)\n",
    "    options = stock.option_chain(expiration_date)\n",
    "    return options.calls\n",
    "\n",
    "\n",
    "# Covered Call Strategy\n",
    "def execute_covered_call(stock_ticker, budget, expiration_date, delta_target=0.1, target_premium=0.01):\n",
    "    # Fetch stock price\n",
    "    stock_data = fetch_stock_data(stock_ticker, (datetime.now() - timedelta(days=90)).strftime('%Y-%m-%d'), datetime.now().strftime('%Y-%m-%d'))\n",
    "    latest_price = float(stock_data['Close'].iloc[-1])\n",
    "\n",
    "    # Fetch options data\n",
    "    options_data = fetch_options_data(stock_ticker, expiration_date)\n",
    "\n",
    "    options_data['Delta'] = options_data['impliedVolatility'] * latest_price  # Placeholder delta approximation\n",
    "\n",
    "    # Filter options by delta and premium\n",
    "    filtered_options = options_data[\n",
    "        (options_data['Delta'].astype(float) >= float(delta_target)) & \n",
    "        (options_data['lastPrice'].astype(float) >= float(target_premium * latest_price))\n",
    "    ]\n",
    "\n",
    "    if not filtered_options.empty:\n",
    "        best_option = filtered_options.iloc[0]  # Choose the best option based on criteria\n",
    "        print(f\"Selected Option: {best_option['contractSymbol']}, Strike: {best_option['strike']}, Premium: {best_option['lastPrice']}\")\n",
    "        \n",
    "        # Calculate shares and trade cost\n",
    "        shares_to_buy = budget // latest_price\n",
    "        trade_cost = shares_to_buy * latest_price\n",
    "\n",
    "        print(f\"Buying {shares_to_buy} shares of {stock_ticker} at ${latest_price} each, total cost: ${trade_cost}\")\n",
    "\n",
    "        # Sell calls\n",
    "        print(f\"Selling {shares_to_buy // 100} covered calls at strike {best_option['strike']}, premium ${best_option['lastPrice']} each.\")\n",
    "    else:\n",
    "        print(\"No suitable options found based on the given criteria.\")\n",
    "\n",
    "def next_friday(start_date):\n",
    "    days_ahead = 4 - start_date.weekday()  # 4 represents Friday (Monday=0, ..., Sunday=6)\n",
    "    if days_ahead < 0:  # If it's already Friday or past Friday, go to the next week\n",
    "        days_ahead += 7\n",
    "    return start_date + timedelta(days=days_ahead)\n",
    "\n",
    "# Example: Run strategy\n",
    "if __name__ == '__main__':\n",
    "    STOCK_TICKER = 'AMD'\n",
    "    BUDGET = 30000  # Example budget\n",
    "    # Find the closest Friday\n",
    "    # Update EXPIRATION_DATE to the next Friday\n",
    "    EXPIRATION_DATE = next_friday(datetime.now()+ timedelta(days=14)).strftime('%Y-%m-%d')\n",
    "    execute_covered_call(STOCK_TICKER, BUDGET, EXPIRATION_DATE)\n"
   ]
  }
 ],
 "metadata": {
  "kernelspec": {
   "display_name": "Python 3",
   "language": "python",
   "name": "python3"
  },
  "language_info": {
   "codemirror_mode": {
    "name": "ipython",
    "version": 3
   },
   "file_extension": ".py",
   "mimetype": "text/x-python",
   "name": "python",
   "nbconvert_exporter": "python",
   "pygments_lexer": "ipython3",
   "version": "3.10.7"
  }
 },
 "nbformat": 4,
 "nbformat_minor": 2
}
